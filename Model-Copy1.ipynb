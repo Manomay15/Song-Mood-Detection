{
 "cells": [
  {
   "cell_type": "code",
   "execution_count": 1,
   "id": "a2be6b67",
   "metadata": {},
   "outputs": [],
   "source": [
    "import pandas as pd\n",
    "import numpy as np\n",
    "from tensorflow.keras.preprocessing.text import Tokenizer\n",
    "from keras.preprocessing.sequence import pad_sequences"
   ]
  },
  {
   "cell_type": "code",
   "execution_count": 2,
   "id": "cac01fc7",
   "metadata": {},
   "outputs": [],
   "source": [
    "data = pd.read_csv('./data.csv')"
   ]
  },
  {
   "cell_type": "code",
   "execution_count": 3,
   "id": "4f93cf5b",
   "metadata": {},
   "outputs": [],
   "source": [
    "data['Mood'] = ''"
   ]
  },
  {
   "cell_type": "code",
   "execution_count": 4,
   "id": "1834330f",
   "metadata": {},
   "outputs": [],
   "source": [
    "for i in range(len(data)):\n",
    "    if data.at[i, 'label'] <= 0.25:\n",
    "        data.at[i, 'Mood'] = 0\n",
    "    if data.at[i, 'label'] > 0.25 and data.at[i, 'label'] <= 0.5:\n",
    "        data.at[i, 'Mood'] = 1\n",
    "    if data.at[i, 'label'] > 0.5 and data.at[i, 'label'] <= 0.75:\n",
    "        data.at[i, 'Mood'] = 2\n",
    "    if data.at[i, 'label'] > 0.75:\n",
    "        data.at[i, 'Mood'] = 3\n",
    "\n",
    "data['Mood'] = data['Mood'].astype(int)"
   ]
  },
  {
   "cell_type": "code",
   "execution_count": 5,
   "id": "1bf6e460",
   "metadata": {},
   "outputs": [],
   "source": [
    "data = data.drop(['label'], axis=1)"
   ]
  },
  {
   "cell_type": "code",
   "execution_count": 6,
   "id": "770cef96",
   "metadata": {
    "scrolled": true
   },
   "outputs": [
    {
     "data": {
      "text/html": [
       "<div>\n",
       "<style scoped>\n",
       "    .dataframe tbody tr th:only-of-type {\n",
       "        vertical-align: middle;\n",
       "    }\n",
       "\n",
       "    .dataframe tbody tr th {\n",
       "        vertical-align: top;\n",
       "    }\n",
       "\n",
       "    .dataframe thead th {\n",
       "        text-align: right;\n",
       "    }\n",
       "</style>\n",
       "<table border=\"1\" class=\"dataframe\">\n",
       "  <thead>\n",
       "    <tr style=\"text-align: right;\">\n",
       "      <th></th>\n",
       "      <th>seq</th>\n",
       "      <th>Mood</th>\n",
       "    </tr>\n",
       "  </thead>\n",
       "  <tbody>\n",
       "    <tr>\n",
       "      <th>0</th>\n",
       "      <td>No, no\\r\\nI ain't ever trapped out the bando\\r...</td>\n",
       "      <td>2</td>\n",
       "    </tr>\n",
       "    <tr>\n",
       "      <th>1</th>\n",
       "      <td>The drinks go down and smoke goes up, I feel m...</td>\n",
       "      <td>2</td>\n",
       "    </tr>\n",
       "    <tr>\n",
       "      <th>2</th>\n",
       "      <td>She don't live on planet Earth no more\\r\\nShe ...</td>\n",
       "      <td>0</td>\n",
       "    </tr>\n",
       "    <tr>\n",
       "      <th>3</th>\n",
       "      <td>Trippin' off that Grigio, mobbin', lights low\\...</td>\n",
       "      <td>2</td>\n",
       "    </tr>\n",
       "    <tr>\n",
       "      <th>4</th>\n",
       "      <td>I see a midnight panther, so gallant and so br...</td>\n",
       "      <td>1</td>\n",
       "    </tr>\n",
       "  </tbody>\n",
       "</table>\n",
       "</div>"
      ],
      "text/plain": [
       "                                                 seq  Mood\n",
       "0  No, no\\r\\nI ain't ever trapped out the bando\\r...     2\n",
       "1  The drinks go down and smoke goes up, I feel m...     2\n",
       "2  She don't live on planet Earth no more\\r\\nShe ...     0\n",
       "3  Trippin' off that Grigio, mobbin', lights low\\...     2\n",
       "4  I see a midnight panther, so gallant and so br...     1"
      ]
     },
     "execution_count": 6,
     "metadata": {},
     "output_type": "execute_result"
    }
   ],
   "source": [
    "data.head()"
   ]
  },
  {
   "cell_type": "code",
   "execution_count": 22,
   "id": "813a7dbb",
   "metadata": {},
   "outputs": [
    {
     "data": {
      "text/plain": [
       "\"No, no\\r\\nI ain't ever trapped out the bando\\r\\nBut oh Lord, don't get me wrong\\r\\nI know a couple niggas that do\\r\\nI'm from a place where everybody knows your name\\r\\nThey say I gotta watch my attitude\\r\\nWhen they see money, man they all start actin' strange\\r\\nSo fuck with the ones that fuck with you\\r\\nThey can never say I'm brand new\\r\\n\\r\\nIt's everyday, everyday\\r\\nEveryday, everyday, everyday\\r\\nEveryday, everyday\\r\\nEveryday, everyday\\r\\nI've been talkin' my shit, nigga that's regular\\r\\nI've been lovin' 'em thick, life is spectacular\\r\\nI spend like I'ma die rich, nigga I'm flexin', yeah\\r\\nEveryday, that's everyday\\r\\nThat's everyday\\r\\nThat's everyday\\r\\nThat's everyday, everyday\\r\\n\\r\\nI see all of these wanna-be hot R&B singers\\r\\nI swear you all sound the same\\r\\nThey start from the bottom, so far from the motto\\r\\nYou niggas'll never be Drake\\r\\nShout out to OVO\\r\\nMost of them prolly don't know me though\\r\\nI stay in the cut, I don't fuck with no\\r\\nBody but I D, that's a pun on No I.D\\r\\nWhen nobody know my name\\r\\nRunnin' for my dream wasn't hard to do\\r\\nYou break bread, I swear they all pull out a plate\\r\\nEat with the ones who starved with you\\r\\nIf I'm winnin' then my crew can't lose\\r\\n\\r\\nIt's everyday, everyday\\r\\nEveryday, everyday, everyday\\r\\nEveryday, everyday\\r\\nEveryday, everyday\\r\\nI've been talkin' my shit, nigga that's regular\\r\\nI've been lovin' 'em thick, life is spectacular\\r\\nI spend like I'ma die rich, nigga I'm flexin', yeah\\r\\nEveryday, that's everyday\\r\\nThat's everyday\\r\\nThat's everyday\\r\\nThat's everyday, everyday\\r\\n\\r\\nI heard since you got money\\r\\nYou changed, you're actin' funny\\r\\nThat's why I gets on my lonely\\r\\nYou be lovin' when change is a hobby\\r\\nWho do you dress when you ain't got nobody?\\r\\n\\r\\nIt's everyday, everyday\\r\\nEveryday, everyday, everyday\\r\\nEveryday, everyday\\r\\nEveryday, everyday\\r\\nI've been talkin' my shit, nigga that's regular\\r\\nI've been lovin' 'em thick, life is spectacular\\r\\nI spend like I'ma die rich, nigga I'm flexin', yeah\\r\\nEveryday, that's everyday\\r\\nThat's everyday\\r\\nThat's everyday\\r\\nThat's everyday, everyday\""
      ]
     },
     "execution_count": 22,
     "metadata": {},
     "output_type": "execute_result"
    }
   ],
   "source": [
    "data.at[0, 'seq']"
   ]
  },
  {
   "cell_type": "code",
   "execution_count": 7,
   "id": "00ac0576",
   "metadata": {},
   "outputs": [],
   "source": [
    "import re\n",
    "def preprocess_text(sen):\n",
    "    # Remove punctuations and numbers\n",
    "    sentence = re.sub('[^a-zA-Z]', ' ', sen)\n",
    "\n",
    "    # Single character removal\n",
    "    sentence = re.sub(r\"\\s+[a-zA-Z]\\s+\", ' ', sentence)\n",
    "\n",
    "    # Removing multiple spaces\n",
    "    sentence = re.sub(r'\\s+', ' ', sentence)\n",
    "\n",
    "    return sentence"
   ]
  },
  {
   "cell_type": "code",
   "execution_count": 8,
   "id": "4bb201d9",
   "metadata": {
    "scrolled": true
   },
   "outputs": [],
   "source": [
    "x = []\n",
    "sentences = list(data[\"seq\"])\n",
    "for sen in sentences:\n",
    "    x.append(preprocess_text(sen))"
   ]
  },
  {
   "cell_type": "code",
   "execution_count": 9,
   "id": "878ad3c4",
   "metadata": {},
   "outputs": [],
   "source": [
    "labels = data['Mood']\n",
    "y = labels.values"
   ]
  },
  {
   "cell_type": "code",
   "execution_count": 10,
   "id": "bc18f488",
   "metadata": {},
   "outputs": [],
   "source": [
    "tokenizer = Tokenizer(num_words=500)\n",
    "tokenizer.fit_on_texts(x)\n",
    "\n",
    "x = tokenizer.texts_to_sequences(x)\n",
    "# x_test = tokenizer.texts_to_sequences(x_test)\n",
    "\n",
    "vocab_size = len(tokenizer.word_index) + 1\n",
    "\n",
    "maxlen = 200\n",
    "\n",
    "# X_test = pad_sequences(x_test, padding='post', maxlen=maxlen)"
   ]
  },
  {
   "cell_type": "code",
   "execution_count": 11,
   "id": "b24145e2",
   "metadata": {},
   "outputs": [],
   "source": [
    "x = pad_sequences(x, padding='post', maxlen=maxlen)"
   ]
  },
  {
   "cell_type": "code",
   "execution_count": 12,
   "id": "7f99aae6",
   "metadata": {
    "scrolled": true
   },
   "outputs": [
    {
     "name": "stderr",
     "output_type": "stream",
     "text": [
      "<frozen importlib._bootstrap>:219: RuntimeWarning: scipy._lib.messagestream.MessageStream size changed, may indicate binary incompatibility. Expected 56 from C header, got 64 from PyObject\n"
     ]
    }
   ],
   "source": [
    "from sklearn.model_selection import train_test_split"
   ]
  },
  {
   "cell_type": "code",
   "execution_count": 13,
   "id": "d94e7021",
   "metadata": {},
   "outputs": [],
   "source": [
    "x_train, x_test, y_train, y_test = train_test_split(x, y, test_size=0.3)"
   ]
  },
  {
   "cell_type": "code",
   "execution_count": 14,
   "id": "a3d6b683",
   "metadata": {},
   "outputs": [],
   "source": [
    "from sklearn.tree import DecisionTreeClassifier"
   ]
  },
  {
   "cell_type": "code",
   "execution_count": 15,
   "id": "0e7f72f0",
   "metadata": {},
   "outputs": [],
   "source": [
    "dtr = DecisionTreeClassifier()"
   ]
  },
  {
   "cell_type": "code",
   "execution_count": 16,
   "id": "b7d2971d",
   "metadata": {},
   "outputs": [
    {
     "data": {
      "text/html": [
       "<style>#sk-container-id-1 {color: black;background-color: white;}#sk-container-id-1 pre{padding: 0;}#sk-container-id-1 div.sk-toggleable {background-color: white;}#sk-container-id-1 label.sk-toggleable__label {cursor: pointer;display: block;width: 100%;margin-bottom: 0;padding: 0.3em;box-sizing: border-box;text-align: center;}#sk-container-id-1 label.sk-toggleable__label-arrow:before {content: \"▸\";float: left;margin-right: 0.25em;color: #696969;}#sk-container-id-1 label.sk-toggleable__label-arrow:hover:before {color: black;}#sk-container-id-1 div.sk-estimator:hover label.sk-toggleable__label-arrow:before {color: black;}#sk-container-id-1 div.sk-toggleable__content {max-height: 0;max-width: 0;overflow: hidden;text-align: left;background-color: #f0f8ff;}#sk-container-id-1 div.sk-toggleable__content pre {margin: 0.2em;color: black;border-radius: 0.25em;background-color: #f0f8ff;}#sk-container-id-1 input.sk-toggleable__control:checked~div.sk-toggleable__content {max-height: 200px;max-width: 100%;overflow: auto;}#sk-container-id-1 input.sk-toggleable__control:checked~label.sk-toggleable__label-arrow:before {content: \"▾\";}#sk-container-id-1 div.sk-estimator input.sk-toggleable__control:checked~label.sk-toggleable__label {background-color: #d4ebff;}#sk-container-id-1 div.sk-label input.sk-toggleable__control:checked~label.sk-toggleable__label {background-color: #d4ebff;}#sk-container-id-1 input.sk-hidden--visually {border: 0;clip: rect(1px 1px 1px 1px);clip: rect(1px, 1px, 1px, 1px);height: 1px;margin: -1px;overflow: hidden;padding: 0;position: absolute;width: 1px;}#sk-container-id-1 div.sk-estimator {font-family: monospace;background-color: #f0f8ff;border: 1px dotted black;border-radius: 0.25em;box-sizing: border-box;margin-bottom: 0.5em;}#sk-container-id-1 div.sk-estimator:hover {background-color: #d4ebff;}#sk-container-id-1 div.sk-parallel-item::after {content: \"\";width: 100%;border-bottom: 1px solid gray;flex-grow: 1;}#sk-container-id-1 div.sk-label:hover label.sk-toggleable__label {background-color: #d4ebff;}#sk-container-id-1 div.sk-serial::before {content: \"\";position: absolute;border-left: 1px solid gray;box-sizing: border-box;top: 0;bottom: 0;left: 50%;z-index: 0;}#sk-container-id-1 div.sk-serial {display: flex;flex-direction: column;align-items: center;background-color: white;padding-right: 0.2em;padding-left: 0.2em;position: relative;}#sk-container-id-1 div.sk-item {position: relative;z-index: 1;}#sk-container-id-1 div.sk-parallel {display: flex;align-items: stretch;justify-content: center;background-color: white;position: relative;}#sk-container-id-1 div.sk-item::before, #sk-container-id-1 div.sk-parallel-item::before {content: \"\";position: absolute;border-left: 1px solid gray;box-sizing: border-box;top: 0;bottom: 0;left: 50%;z-index: -1;}#sk-container-id-1 div.sk-parallel-item {display: flex;flex-direction: column;z-index: 1;position: relative;background-color: white;}#sk-container-id-1 div.sk-parallel-item:first-child::after {align-self: flex-end;width: 50%;}#sk-container-id-1 div.sk-parallel-item:last-child::after {align-self: flex-start;width: 50%;}#sk-container-id-1 div.sk-parallel-item:only-child::after {width: 0;}#sk-container-id-1 div.sk-dashed-wrapped {border: 1px dashed gray;margin: 0 0.4em 0.5em 0.4em;box-sizing: border-box;padding-bottom: 0.4em;background-color: white;}#sk-container-id-1 div.sk-label label {font-family: monospace;font-weight: bold;display: inline-block;line-height: 1.2em;}#sk-container-id-1 div.sk-label-container {text-align: center;}#sk-container-id-1 div.sk-container {/* jupyter's `normalize.less` sets `[hidden] { display: none; }` but bootstrap.min.css set `[hidden] { display: none !important; }` so we also need the `!important` here to be able to override the default hidden behavior on the sphinx rendered scikit-learn.org. See: https://github.com/scikit-learn/scikit-learn/issues/21755 */display: inline-block !important;position: relative;}#sk-container-id-1 div.sk-text-repr-fallback {display: none;}</style><div id=\"sk-container-id-1\" class=\"sk-top-container\"><div class=\"sk-text-repr-fallback\"><pre>DecisionTreeClassifier()</pre><b>In a Jupyter environment, please rerun this cell to show the HTML representation or trust the notebook. <br />On GitHub, the HTML representation is unable to render, please try loading this page with nbviewer.org.</b></div><div class=\"sk-container\" hidden><div class=\"sk-item\"><div class=\"sk-estimator sk-toggleable\"><input class=\"sk-toggleable__control sk-hidden--visually\" id=\"sk-estimator-id-1\" type=\"checkbox\" checked><label for=\"sk-estimator-id-1\" class=\"sk-toggleable__label sk-toggleable__label-arrow\">DecisionTreeClassifier</label><div class=\"sk-toggleable__content\"><pre>DecisionTreeClassifier()</pre></div></div></div></div></div>"
      ],
      "text/plain": [
       "DecisionTreeClassifier()"
      ]
     },
     "execution_count": 16,
     "metadata": {},
     "output_type": "execute_result"
    }
   ],
   "source": [
    "dtr.fit(x_train, y_train)"
   ]
  },
  {
   "cell_type": "code",
   "execution_count": 17,
   "id": "a80e2c80",
   "metadata": {},
   "outputs": [],
   "source": [
    "from sklearn.metrics import classification_report"
   ]
  },
  {
   "cell_type": "code",
   "execution_count": 18,
   "id": "ce877a25",
   "metadata": {
    "scrolled": true
   },
   "outputs": [
    {
     "name": "stdout",
     "output_type": "stream",
     "text": [
      "              precision    recall  f1-score   support\n",
      "\n",
      "           0       0.32      0.34      0.33      9990\n",
      "           1       0.34      0.34      0.34     14776\n",
      "           2       0.33      0.32      0.33     13897\n",
      "           3       0.26      0.25      0.26      8843\n",
      "\n",
      "    accuracy                           0.32     47506\n",
      "   macro avg       0.31      0.32      0.31     47506\n",
      "weighted avg       0.32      0.32      0.32     47506\n",
      "\n"
     ]
    }
   ],
   "source": [
    "print(classification_report(y_test, dtr.predict(x_test)))"
   ]
  },
  {
   "cell_type": "code",
   "execution_count": 19,
   "id": "8eb8f305",
   "metadata": {},
   "outputs": [],
   "source": [
    "import pickle as pkl"
   ]
  },
  {
   "cell_type": "code",
   "execution_count": 21,
   "id": "7c9f37be",
   "metadata": {},
   "outputs": [],
   "source": [
    "with open(\"model.pkl\", \"wb\") as file:\n",
    "    pkl.dump(dtr, file)"
   ]
  },
  {
   "cell_type": "code",
   "execution_count": 24,
   "id": "f977cc56",
   "metadata": {},
   "outputs": [
    {
     "data": {
      "text/plain": [
       "110847"
      ]
     },
     "execution_count": 24,
     "metadata": {},
     "output_type": "execute_result"
    }
   ],
   "source": [
    "len(y_train)"
   ]
  },
  {
   "cell_type": "code",
   "execution_count": 26,
   "id": "be15d2cd",
   "metadata": {},
   "outputs": [
    {
     "data": {
      "text/plain": [
       "array([3])"
      ]
     },
     "execution_count": 26,
     "metadata": {},
     "output_type": "execute_result"
    }
   ],
   "source": [
    "dtr.predict([x_train[0]])"
   ]
  },
  {
   "cell_type": "code",
   "execution_count": 27,
   "id": "fa8b3217",
   "metadata": {},
   "outputs": [
    {
     "data": {
      "text/plain": [
       "array([129,  38,  98, 428,  92,   4,  18,  81,  38,  98, 428,  92,   4,\n",
       "        18,  81,  54, 153,   8,   1,   8, 120,  64,   1,   4,   1,   4,\n",
       "         1,   4,  37,   1,   4, 290,  44,  15,   2,   7,  98, 428,  12,\n",
       "         1,  89,   2,   9,  54,  15,   1,  15,   1,  54,  22,  58,  29,\n",
       "         8,   1,  18, 298, 344,  55,   6,  89, 243,  37,  40,   2,  53,\n",
       "         7, 428, 145, 127, 114,  40,   2,  53,   7, 428, 145, 127, 121,\n",
       "        29,   8,   1, 394,   7, 428,  85, 142,   0,   0,   0,   0,   0,\n",
       "         0,   0,   0,   0,   0,   0,   0,   0,   0,   0,   0,   0,   0,\n",
       "         0,   0,   0,   0,   0,   0,   0,   0,   0,   0,   0,   0,   0,\n",
       "         0,   0,   0,   0,   0,   0,   0,   0,   0,   0,   0,   0,   0,\n",
       "         0,   0,   0,   0,   0,   0,   0,   0,   0,   0,   0,   0,   0,\n",
       "         0,   0,   0,   0,   0,   0,   0,   0,   0,   0,   0,   0,   0,\n",
       "         0,   0,   0,   0,   0,   0,   0,   0,   0,   0,   0,   0,   0,\n",
       "         0,   0,   0,   0,   0,   0,   0,   0,   0,   0,   0,   0,   0,\n",
       "         0,   0,   0,   0,   0,   0,   0,   0,   0,   0,   0,   0,   0,\n",
       "         0,   0,   0,   0,   0])"
      ]
     },
     "execution_count": 27,
     "metadata": {},
     "output_type": "execute_result"
    }
   ],
   "source": [
    "x_train[0]"
   ]
  },
  {
   "cell_type": "code",
   "execution_count": null,
   "id": "7bf72a15",
   "metadata": {},
   "outputs": [],
   "source": []
  }
 ],
 "metadata": {
  "kernelspec": {
   "display_name": "Python 3",
   "language": "python",
   "name": "python3"
  },
  "language_info": {
   "codemirror_mode": {
    "name": "ipython",
    "version": 3
   },
   "file_extension": ".py",
   "mimetype": "text/x-python",
   "name": "python",
   "nbconvert_exporter": "python",
   "pygments_lexer": "ipython3",
   "version": "3.8.8"
  }
 },
 "nbformat": 4,
 "nbformat_minor": 5
}
